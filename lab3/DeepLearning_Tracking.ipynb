{
  "nbformat": 4,
  "nbformat_minor": 0,
  "metadata": {
    "colab": {
      "name": "Copia de DeepSORT_YOLOv3.ipynb",
      "provenance": [],
      "collapsed_sections": []
    },
    "kernelspec": {
      "name": "python3",
      "display_name": "Python 3"
    },
    "accelerator": "GPU"
  },
  "cells": [
    {
      "cell_type": "markdown",
      "metadata": {
        "id": "JbMjmfT5bZb6",
        "colab_type": "text"
      },
      "source": [
        "# Pedestrian Tracking utilizando YOLOv3 y DeepSORT\n",
        "\n",
        "Tracking de peatones que utiliza el proyecto de código abierto [ZQPei/deep_sort_pytorch](https://github.com/ZQPei/deep_sort_pytorch) que combina [DeepSORT](https://github.com/nwojke/deep_sort) con [YOLOv3](https://pjreddie.com/darknet/yolo/).\n",
        "\n",
        "\n",
        "\n",
        "\n",
        "## Instala ZQPei/deep_sort_pytorch"
      ]
    },
    {
      "cell_type": "code",
      "metadata": {
        "id": "s-swJb8AnUwf",
        "colab_type": "code",
        "colab": {}
      },
      "source": [
        "import os\n",
        "from os.path import exists, join, basename\n",
        "\n",
        "project_name = \"deep_sort_pytorch\"\n",
        "if not exists(project_name):\n",
        "  # clone and install\n",
        "  !git clone -q --recursive https://github.com/ZQPei/deep_sort_pytorch.git\n",
        "  \n",
        "import sys\n",
        "sys.path.append(project_name)\n",
        "\n",
        "import IPython\n",
        "from IPython.display import clear_output"
      ],
      "execution_count": 0,
      "outputs": []
    },
    {
      "cell_type": "markdown",
      "metadata": {
        "id": "7uPYXRG3RQ8e",
        "colab_type": "text"
      },
      "source": [
        "## Descarga los pesos pre-entrenados de las redes (puede tardar varios minutos)"
      ]
    },
    {
      "cell_type": "code",
      "metadata": {
        "id": "h15jd8tyoANM",
        "colab_type": "code",
        "outputId": "08dd1def-e1d0-47d1-f1a1-660e92dd82e0",
        "colab": {
          "base_uri": "https://localhost:8080/",
          "height": 85
        }
      },
      "source": [
        "yolo_pretrained_weight_dir = join(project_name, 'detector/YOLOv3/weight/')\n",
        "if not exists(join(yolo_pretrained_weight_dir, 'yolov3.weights')):\n",
        "  !cd {yolo_pretrained_weight_dir} && wget -q https://pjreddie.com/media/files/yolov3.weights\n",
        "    \n",
        "deepsort_pretrained_weight_dir = join(project_name, 'deep_sort/deep/checkpoint')\n",
        "if not exists(join(deepsort_pretrained_weight_dir, 'ckpt.t7')):\n",
        "  file_id = '1_qwTWdzT9dWNudpusgKavj_4elGgbkUN'\n",
        "  !cd {deepsort_pretrained_weight_dir} && curl -Lb ./cookie \"https://drive.google.com/uc?export=download&id={file_id}\" -o ckpt.t7"
      ],
      "execution_count": 0,
      "outputs": [
        {
          "output_type": "stream",
          "text": [
            "  % Total    % Received % Xferd  Average Speed   Time    Time     Time  Current\n",
            "                                 Dload  Upload   Total   Spent    Left  Speed\n",
            "100   388    0   388    0     0    148      0 --:--:--  0:00:02 --:--:--   148\n",
            "100 43.9M    0 43.9M    0     0  13.2M      0 --:--:--  0:00:03 --:--:-- 13.2M\n"
          ],
          "name": "stdout"
        }
      ]
    },
    {
      "cell_type": "markdown",
      "metadata": {
        "id": "I-OHRN2qSMnN",
        "colab_type": "text"
      },
      "source": [
        "## Tracking de personas\n",
        "\n",
        "Función para visualizar videos:"
      ]
    },
    {
      "cell_type": "code",
      "metadata": {
        "id": "xHS89UbJoNfH",
        "colab_type": "code",
        "colab": {}
      },
      "source": [
        "def show_local_mp4_video(file_name, width=640, height=480):\n",
        "  import io\n",
        "  import base64\n",
        "  from IPython.display import HTML\n",
        "  video_encoded = base64.b64encode(io.open(file_name, 'rb').read())\n",
        "  return HTML(data='''<video width=\"{0}\" height=\"{1}\" alt=\"test\" controls>\n",
        "                        <source src=\"data:video/mp4;base64,{2}\" type=\"video/mp4\" />\n",
        "                      </video>'''.format(width, height, video_encoded.decode('ascii')))\n",
        " "
      ],
      "execution_count": 0,
      "outputs": []
    },
    {
      "cell_type": "markdown",
      "metadata": {
        "id": "mUmYyIrqSl1D",
        "colab_type": "text"
      },
      "source": [
        "Comando para ejecutar el tracking de personas en el video de prueba"
      ]
    },
    {
      "cell_type": "code",
      "metadata": {
        "id": "A-j5tW6-PxSF",
        "colab_type": "code",
        "colab": {}
      },
      "source": [
        "!cd {project_name} && python yolov3_deepsort.py ../input.mp4 --save_path ../output.avi"
      ],
      "execution_count": 0,
      "outputs": []
    },
    {
      "cell_type": "markdown",
      "metadata": {
        "id": "Il1RKuhOSxCG",
        "colab_type": "text"
      },
      "source": [
        "Visualización de resultados:"
      ]
    },
    {
      "cell_type": "code",
      "metadata": {
        "id": "bG2UQsD7aAgU",
        "colab_type": "code",
        "colab": {}
      },
      "source": [
        "# first convert to mp4 to show in a Colab notebook\n",
        "!ffmpeg -y -loglevel panic -i /content/output.avi/results.avi /content/output.avi/output.mp4\n",
        "show_local_mp4_video('/content/output.avi/output.mp4', width=352, height=228)"
      ],
      "execution_count": 0,
      "outputs": []
    }
  ]
}