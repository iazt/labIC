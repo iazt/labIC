{
  "nbformat": 4,
  "nbformat_minor": 0,
  "metadata": {
    "accelerator": "GPU",
    "colab": {
      "name": "Yolo_Darknet_Example.ipynb",
      "version": "0.3.2",
      "provenance": [],
      "collapsed_sections": [],
      "toc_visible": true
    },
    "kernelspec": {
      "display_name": "Python 3",
      "language": "python",
      "name": "python3"
    },
    "language_info": {
      "codemirror_mode": {
        "name": "ipython",
        "version": 3
      },
      "file_extension": ".py",
      "mimetype": "text/x-python",
      "name": "python",
      "nbconvert_exporter": "python",
      "pygments_lexer": "ipython3",
      "version": "3.6.5"
    }
  },
  "cells": [
    {
      "cell_type": "markdown",
      "metadata": {
        "id": "xQo7vTrasm82",
        "colab_type": "text"
      },
      "source": [
        "# Ejemplo YOLO V3\n",
        "<br>\n"
      ]
    },
    {
      "cell_type": "code",
      "metadata": {
        "colab_type": "code",
        "id": "1faGiPFGrA3O",
        "colab": {}
      },
      "source": [
        "# We will be using a forked version of Darknet which \n",
        "# allows us to suppress the display from OpenCV, when running\n",
        "# object detection on videos\n",
        "!ls\n",
        "!rm -fr darknet\n",
        "!git clone https://github.com/AlexeyAB/darknet/"
      ],
      "execution_count": 0,
      "outputs": []
    },
    {
      "cell_type": "code",
      "metadata": {
        "colab_type": "code",
        "id": "OmQq7CaFsCL6",
        "colab": {}
      },
      "source": [
        "!ls\n",
        "%cd darknet\n",
        "!ls\n",
        "% cd .."
      ],
      "execution_count": 0,
      "outputs": []
    },
    {
      "cell_type": "code",
      "metadata": {
        "colab_type": "code",
        "id": "ZM9NmbJGT0cD",
        "colab": {}
      },
      "source": [
        "#Installing CUDA pre-requisites\n",
        "!wget https://developer.nvidia.com/compute/cuda/8.0/Prod2/local_installers/cuda-repo-ubuntu1604-8-0-local-ga2_8.0.61-1_amd64-deb\n",
        "!dpkg -i cuda-repo-ubuntu1604-8-0-local-ga2_8.0.61-1_amd64-deb"
      ],
      "execution_count": 0,
      "outputs": []
    },
    {
      "cell_type": "code",
      "metadata": {
        "colab_type": "code",
        "id": "K3Gg5x-sUgtM",
        "colab": {}
      },
      "source": [
        "!apt update"
      ],
      "execution_count": 0,
      "outputs": []
    },
    {
      "cell_type": "code",
      "metadata": {
        "colab_type": "code",
        "id": "jEL2d0pbUlbe",
        "colab": {}
      },
      "source": [
        "#Installing CUDA\n",
        "!apt install cuda-8-0 -y\n",
        "\n",
        "# If there is an issue installing CUDA, \n",
        "# try installing cuda-visual-tools again\n",
        "# Comment the earlier command to install cuda\n",
        "# Uncomment and run the below command\n",
        "\n",
        "#!apt --fix-broken install cuda-visual-tools-8-0 -y"
      ],
      "execution_count": 0,
      "outputs": []
    },
    {
      "cell_type": "code",
      "metadata": {
        "colab_type": "code",
        "id": "IGX1DbadVNrI",
        "colab": {}
      },
      "source": [
        "import os\n",
        "os.environ['PATH'] += ':/usr/local/cuda/bin'"
      ],
      "execution_count": 0,
      "outputs": []
    },
    {
      "cell_type": "code",
      "metadata": {
        "colab_type": "code",
        "id": "EtfVxhjEVPbv",
        "colab": {}
      },
      "source": [
        "#Installing compilers\n",
        "!apt install gcc-5 g++-5 -y"
      ],
      "execution_count": 0,
      "outputs": []
    },
    {
      "cell_type": "code",
      "metadata": {
        "colab_type": "code",
        "id": "wG7AYbANVbG3",
        "colab": {}
      },
      "source": [
        "!ln -s /usr/bin/gcc-5 /usr/local/cuda/bin/gcc \n",
        "!ln -s /usr/bin/g++-5 /usr/local/cuda/bin/g++"
      ],
      "execution_count": 0,
      "outputs": []
    },
    {
      "cell_type": "code",
      "metadata": {
        "colab_type": "code",
        "id": "PEQfdDhYVc8T",
        "colab": {}
      },
      "source": [
        "import os\n",
        "os.environ['PATH'] += ':/usr/local/cuda/bin'"
      ],
      "execution_count": 0,
      "outputs": []
    },
    {
      "cell_type": "code",
      "metadata": {
        "colab_type": "code",
        "id": "j721QOATsEv4",
        "colab": {}
      },
      "source": [
        "#Changing the variables to include OpenCV and GPU in the Makefile\n",
        "% cd darknet\n",
        "!sed -i 's/OPENCV=0/OPENCV=1/g' Makefile\n",
        "!sed -i 's/GPU=0/GPU=1/g' Makefile\n",
        "#!sed -i 's/CUDNN=0/CUDNN=1/g' Makefile"
      ],
      "execution_count": 0,
      "outputs": []
    },
    {
      "cell_type": "code",
      "metadata": {
        "colab_type": "code",
        "id": "7K6BoJ_usPYK",
        "colab": {}
      },
      "source": [
        "# And this is how our Makefile looks now\n",
        "# Check if OPENCV = 1 and GPU = 1\n",
        "!cat Makefile"
      ],
      "execution_count": 0,
      "outputs": []
    },
    {
      "cell_type": "code",
      "metadata": {
        "colab_type": "code",
        "id": "1gVBmd01wd8m",
        "colab": {}
      },
      "source": [
        "# Apparently we need to install this so that OpenCV can work without any issues\n",
        "# when we are making the file\n",
        "!apt-get install libopencv-dev"
      ],
      "execution_count": 0,
      "outputs": []
    },
    {
      "cell_type": "code",
      "metadata": {
        "colab_type": "code",
        "id": "ZujnxIIYyz0i",
        "colab": {}
      },
      "source": [
        "#Running make!\n",
        "!make\n",
        "!mkdir /content/darknet/data/results"
      ],
      "execution_count": 0,
      "outputs": []
    },
    {
      "cell_type": "markdown",
      "metadata": {
        "id": "AvrW3bTl-GCl",
        "colab_type": "text"
      },
      "source": [
        "**Descarga de pesos de la red**"
      ]
    },
    {
      "cell_type": "code",
      "metadata": {
        "colab_type": "code",
        "id": "vJ4Bu_sc0cc1",
        "colab": {}
      },
      "source": [
        "!wget https://pjreddie.com/media/files/yolov3.weights"
      ],
      "execution_count": 0,
      "outputs": []
    },
    {
      "cell_type": "markdown",
      "metadata": {
        "id": "ZyTTl4Ky-LWT",
        "colab_type": "text"
      },
      "source": [
        "**Detección sobre una imagen de ejemplo**"
      ]
    },
    {
      "cell_type": "code",
      "metadata": {
        "colab_type": "code",
        "id": "r1pPY5yL1DvM",
        "colab": {}
      },
      "source": [
        "!./darknet detect cfg/yolov3.cfg yolov3.weights data/eagle.jpg"
      ],
      "execution_count": 0,
      "outputs": []
    },
    {
      "cell_type": "code",
      "metadata": {
        "colab_type": "code",
        "id": "I2-O4B7e1UOC",
        "colab": {}
      },
      "source": [
        "import cv2\n",
        "import matplotlib.pyplot as plt\n",
        "%matplotlib inline\n",
        "\n",
        "image = cv2.imread(\"predictions.jpg\")\n",
        "height, width = image.shape[:2]\n",
        "resized_image = cv2.resize(image,(3*width, 3*height), interpolation = cv2.INTER_CUBIC)\n",
        "\n",
        "fig = plt.gcf()\n",
        "fig.set_size_inches(18, 10)\n",
        "plt.axis(\"off\")\n",
        "#plt.rcParams['figure.figsize'] = [10, 5]\n",
        "plt.imshow(cv2.cvtColor(resized_image, cv2.COLOR_BGR2RGB))\n",
        "plt.show()\n",
        "\n",
        "\n"
      ],
      "execution_count": 0,
      "outputs": []
    }
  ]
}