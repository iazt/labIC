{
 "cells": [
  {
   "cell_type": "markdown",
   "metadata": {},
   "source": [
    "# Laboratorio 3: Detección de movimiento y tracking"
   ]
  },
  {
   "cell_type": "markdown",
   "metadata": {},
   "source": [
    "**Parte 1:** Detección de movimiento con diferencia de frames y modelo de fondo "
   ]
  },
  {
   "cell_type": "markdown",
   "metadata": {},
   "source": [
    "1."
   ]
  },
  {
   "cell_type": "code",
   "execution_count": 7,
   "metadata": {},
   "outputs": [],
   "source": [
    "import cv2\n",
    "import matplotlib.pyplot as plt\n",
    "import numpy as np\n",
    "from os import scandir\n",
    "import matplotlib.pyplot as plt"
   ]
  },
  {
   "cell_type": "markdown",
   "metadata": {},
   "source": [
    "Se creó el detector de movimiento por diferencia de cuadros"
   ]
  },
  {
   "cell_type": "code",
   "execution_count": 19,
   "metadata": {},
   "outputs": [],
   "source": [
    "def detector(seq):\n",
    "    direct= 'C:/Users/aleja/Desktop/exp3/'+ seq + '/'\n",
    "    ims_names = [im.name for im in scandir(direct)] #se listan los nombres de las imagenes del directorio\n",
    "    ims_names = sorted(ims_names) #se ordenan alfabeticamente\n",
    "    frame_width = 1280\n",
    "    frame_height = 800\n",
    "    out = cv2.VideoWriter('out'+seq+'.avi',cv2.VideoWriter_fourcc('M','J','P','G'), 10, \n",
    "                          (frame_width,frame_height),\n",
    "                          isColor = False)\n",
    "\n",
    "    #dif = []\n",
    "    \n",
    "        \n",
    "    for j, im in enumerate(ims_names[:-1]):\n",
    "        im1 = cv2.imread(direct + im,0)\n",
    "        im2 = cv2.imread(direct + ims_names[j+1],0)\n",
    "        diff = cv2.absdiff(im1, im2)\n",
    "        blur = cv2.GaussianBlur(diff, (5,5), 0)\n",
    "        _, thresh = cv2.threshold(blur, 25, 255, cv2.THRESH_BINARY)\n",
    "        \n",
    "    \n",
    "        out.write(thresh)\n",
    "        #out.write(np.uint8(im1))\n",
    "        \n",
    "    out.release()\n",
    "\n"
   ]
  },
  {
   "cell_type": "code",
   "execution_count": 20,
   "metadata": {},
   "outputs": [],
   "source": [
    "detector('seq1')\n",
    "detector('seq2')\n",
    "detector('seq3')"
   ]
  },
  {
   "cell_type": "markdown",
   "metadata": {},
   "source": [
    "Como resultado, se apreció que los pixeles en primer plano que estaban en movimiento, se les detectaba el entorno principalmente, llegando a estar los objetos detectados con un entorno blanco, con lo cual se puede distinguir que es el objeto que se esta detectando."
   ]
  },
  {
   "cell_type": "markdown",
   "metadata": {},
   "source": [
    "2."
   ]
  },
  {
   "cell_type": "code",
   "execution_count": 25,
   "metadata": {},
   "outputs": [],
   "source": [
    "class averaging_background:\n",
    "    \n",
    "    def __init__(self, alpha):\n",
    "        self.alpha = alpha\n",
    "        \n",
    "    def fit(self, background_images):\n",
    "        self.X = background_images.mean(axis = 0)\n",
    "        self.D = 1 + background_images.std(axis = 0)\n",
    "        \n",
    "    def differencing(self,im):\n",
    "        out1 = (im < self.X - self.alpha * self.D).astype(int) * 255\n",
    "        out2 = (im > self.X + self.alpha * self.D).astype(int) * 255\n",
    "        return out1 + out2"
   ]
  },
  {
   "cell_type": "code",
   "execution_count": 26,
   "metadata": {},
   "outputs": [],
   "source": [
    "from os import scandir\n",
    "import numpy as np\n",
    "directory = 'seq4/fondo/'\n",
    "ims_names = [im.name for im in scandir(directory)] #se listan los nombres de las imagenes del directorio\n",
    "ims_names = sorted(ims_names) #se ordenan alfabeticamente\n",
    "\n",
    "fondo = []\n",
    "for im in ims_names:\n",
    "    im1 = cv2.imread(directory + im,0)\n",
    "    fondo.append(im1)\n",
    "fondo = np.asarray(fondo)"
   ]
  },
  {
   "cell_type": "code",
   "execution_count": 27,
   "metadata": {},
   "outputs": [],
   "source": [
    "avg_background = averaging_background(20)\n",
    "avg_background.fit(fondo)"
   ]
  },
  {
   "cell_type": "code",
   "execution_count": 28,
   "metadata": {},
   "outputs": [],
   "source": [
    "frame_width = 1280\n",
    "frame_height = 800\n",
    "\n",
    "out = cv2.VideoWriter('avg_diff_seq1.avi',cv2.VideoWriter_fourcc('M','J','P','G'), 25, \n",
    "                      (frame_width,frame_height),\n",
    "                      isColor = False)\n",
    "\n",
    "directory = 'seq4/seq1/'\n",
    "ims_names = [im.name for im in scandir(directory)] #se listan los nombres de las imagenes del directorio\n",
    "ims_names = sorted(ims_names) #se ordenan alfabeticamente\n",
    "\n",
    "for im in ims_names:\n",
    "    im1 = cv2.imread(directory + im,0)\n",
    "    r = avg_background.differencing(im1)\n",
    "    out.write(np.uint8(r))\n",
    "\n",
    "out.release()"
   ]
  },
  {
   "cell_type": "markdown",
   "metadata": {},
   "source": [
    "3."
   ]
  },
  {
   "cell_type": "code",
   "execution_count": 29,
   "metadata": {},
   "outputs": [],
   "source": [
    "frame_width = 1280\n",
    "frame_height = 800\n",
    "threshold_h = frame_width * 3\n",
    "threshold_v = frame_height * 3\n",
    "\n",
    "out = cv2.VideoWriter('avg_bb_seq1.avi',cv2.VideoWriter_fourcc('M','J','P','G'), 25, \n",
    "                      (frame_width,frame_height),\n",
    "                      isColor = True)\n",
    "\n",
    "directory = 'seq4/seq1/'\n",
    "ims_names = [im.name for im in scandir(directory)] #se listan los nombres de las imagenes del directorio\n",
    "ims_names = sorted(ims_names) #se ordenan alfabeticamente\n",
    "\n",
    "for im in ims_names:\n",
    "    im_color = cv2.imread(directory + im)\n",
    "    im1 = cv2.cvtColor(im_color, cv2.COLOR_BGR2GRAY)\n",
    "\n",
    "    r = avg_background.differencing(im1)\n",
    "    c = r.sum(axis = 0) # suma de columnas\n",
    "    f = r.sum(axis = 1) #suma de filas\n",
    "    color = (255, 0, 0) \n",
    "    thickness = 2\n",
    "\n",
    "    try:\n",
    "        c = list(c > threshold_h)\n",
    "        f = list(f > threshold_v)\n",
    "        \n",
    "        x_1 = c.index(True)\n",
    "        c.reverse()\n",
    "        x_2 = frame_width - c.index(True)\n",
    "        y_1 = f.index(True)\n",
    "        f.reverse()\n",
    "        y_2 = frame_height - f.index(True)\n",
    "        im_color = cv2.rectangle(im_color, (x_1, y_1), (x_2, y_2), color, thickness) \n",
    "    except:\n",
    "        pass\n",
    "    out.write(im_color)\n",
    "\n",
    "out.release()\n",
    "\n"
   ]
  },
  {
   "cell_type": "markdown",
   "metadata": {},
   "source": [
    "5.\n",
    "\n",
    "La detección de movimiento logró captar a la persona, pero se enfoca mas en el contorno del objeto en movimiento, en este caso la persona, con lo cual los pixeles del contorno se vuelven blancos, adicionalmente, con el movimiento de la camara, se detectan ciertos pixeles en movimientos en el fondo, de objetos que no estan en movimiento, llegando a detectar movimiento erroneamente y volviendo los pixeles blancos de cosas estaticas.\n"
   ]
  },
  {
   "cell_type": "code",
   "execution_count": 33,
   "metadata": {},
   "outputs": [],
   "source": [
    "\n",
    "#detector de movimiento\n",
    "def detector5():\n",
    "    direct= 'seq4/seq4/' + '/I_MC_01-'\n",
    "    ims_names = []\n",
    "    for i in range(300):\n",
    "         ims_names.append(str(i+1)+'.bmp')\n",
    "            \n",
    "    frame_width = 352\n",
    "    frame_height = 288\n",
    "    out = cv2.VideoWriter('seq4.avi',cv2.VideoWriter_fourcc('M','J','P','G'), 10, \n",
    "                          (frame_width,frame_height),\n",
    "                          isColor = False)\n",
    "\n",
    "    \n",
    "    for j in range(len(ims_names)-1):\n",
    "        im1 = cv2.imread(direct + ims_names[j],0)\n",
    "        im2 = cv2.imread(direct + ims_names[j+1],0)\n",
    "        diff2 = cv2.absdiff(im1, im2)\n",
    "        blur2 = cv2.GaussianBlur(diff2, (5,5), 0)\n",
    "        _, thresh2 = cv2.threshold(blur2, 20, 255, cv2.THRESH_BINARY)\n",
    "        #print(thresh2)\n",
    "        \n",
    "        \n",
    "        out.write(thresh2)\n",
    "        \n",
    "        \n",
    "    out.release()"
   ]
  },
  {
   "cell_type": "code",
   "execution_count": 34,
   "metadata": {},
   "outputs": [],
   "source": [
    "detector5()"
   ]
  },
  {
   "cell_type": "markdown",
   "metadata": {},
   "source": [
    "Los problemas que se lograron apreciar utilizando el detector por diferencia de cuadros, se basaron en el movimiento de la camara, puesto que la camara rotaba, lo que produjo ciertos errores, llegandose a detectar movimiento donde no lo existe, puesto que los frames de fondo cambiaban gracias al movimiento de la camara."
   ]
  },
  {
   "cell_type": "code",
   "execution_count": 41,
   "metadata": {},
   "outputs": [],
   "source": [
    "\n",
    "#detector con caja\n",
    "def detector5a():\n",
    "    direct= 'seq4/seq4/I_MC_01-'\n",
    "    ims_names = []\n",
    "    for i in range(300):\n",
    "         ims_names.append(str(i+1)+'.bmp')\n",
    "            \n",
    "    frame_width = 352\n",
    "    frame_height = 288\n",
    "    out = cv2.VideoWriter('seq4caja.avi',cv2.VideoWriter_fourcc('M','J','P','G'), 20, \n",
    "                          (frame_width,frame_height),\n",
    "                          isColor = True)\n",
    "\n",
    "    \n",
    "    for j in range(len(ims_names)-1):\n",
    "        im1 = cv2.imread(direct + ims_names[j])\n",
    "        im2 = cv2.imread(direct + ims_names[j+1])\n",
    "        diff2 = cv2.absdiff(im1, im2)\n",
    "        gray2 = cv2.cvtColor(diff2, cv2.COLOR_BGR2GRAY)\n",
    "        blur2 = cv2.GaussianBlur(gray2, (5,5), 0)\n",
    "        _, thresh2 = cv2.threshold(blur2, 20, 255, cv2.THRESH_BINARY)\n",
    "        dilated2 = cv2.dilate(thresh2, None, iterations=3)\n",
    "        contours, _ = cv2.findContours(dilated2, cv2.RETR_TREE, cv2.CHAIN_APPROX_SIMPLE)\n",
    "        #print(thresh2)\n",
    "        \n",
    "        for contour in contours:\n",
    "            (x, y, w, h) = cv2.boundingRect(contour)\n",
    "\n",
    "            if cv2.contourArea(contour) < 500:\n",
    "                continue\n",
    "            cv2.rectangle(im1, (x, y), (x+w, y+h), (0, 255, 0), 2)\n",
    "            cv2.putText(im1, \"Status: {}\".format('Movement'), (10, 20), cv2.FONT_HERSHEY_SIMPLEX,\n",
    "                        1, (0, 0, 255), 3)\n",
    "        image = cv2.resize(im1, (352,288))\n",
    "        out.write(image)\n",
    "        #cv2.imshow(\"feed\", im1)\n",
    "        #im1 = im2\n",
    "        #ret, im2 = cap.read()\n",
    "\n",
    "        \n",
    "        \n",
    "out.release()"
   ]
  },
  {
   "cell_type": "code",
   "execution_count": 42,
   "metadata": {},
   "outputs": [],
   "source": [
    "detector5a()"
   ]
  },
  {
   "cell_type": "markdown",
   "metadata": {},
   "source": [
    "#### Parte 2: Tracking de personas basado en Deep Learning."
   ]
  },
  {
   "cell_type": "markdown",
   "metadata": {},
   "source": [
    "3.\n",
    "\n",
    "Primero se guardaran en un arreglo todas las detecciones que ocurrieron y en que frame, luego se colocara un contador con el fin de saber cuantas activaciones totales hubieron\n"
   ]
  },
  {
   "cell_type": "code",
   "execution_count": 13,
   "metadata": {},
   "outputs": [],
   "source": [
    "#video a color\n",
    "\n",
    "direct= 'C:/Users/aleja/Desktop/exp3/seq4/I_MC_01-'\n",
    "ims_names = []\n",
    "for i in range(300):\n",
    "    ims_names.append(str(i+1)+'.bmp')\n",
    "            \n",
    "frame_width = 352\n",
    "frame_height = 288\n",
    "out = cv2.VideoWriter('seq4p5.avi',cv2.VideoWriter_fourcc('M','J','P','G'), 20, \n",
    "                          (frame_width,frame_height),\n",
    "                          isColor = True)\n",
    "Activaciones=np.zeros(301)\n",
    "contador=0    \n",
    "for j in range(len(ims_names)-1):\n",
    "    im1 = cv2.imread(direct + ims_names[j])\n",
    "    im2 = cv2.imread(direct + ims_names[j+1])\n",
    "    diff2 = cv2.absdiff(im1, im2)\n",
    "    gray2 = cv2.cvtColor(diff2, cv2.COLOR_BGR2GRAY)\n",
    "    blur2 = cv2.GaussianBlur(gray2, (5,5), 0)\n",
    "    _, thresh2 = cv2.threshold(blur2, 20, 255, cv2.THRESH_BINARY)\n",
    "    dilated2 = cv2.dilate(thresh2, None, iterations=3)\n",
    "    _,contours, _ = cv2.findContours(dilated2, cv2.RETR_TREE, cv2.CHAIN_APPROX_SIMPLE)\n",
    "        #print(thresh2)\n",
    "    #print(str(j+1)+', ', end='')    \n",
    "    for contour in contours:\n",
    "        (x, y, w, h) = cv2.boundingRect(contour)\n",
    "\n",
    "        if cv2.contourArea(contour) < 500:\n",
    "            continue\n",
    "        cv2.rectangle(im1, (x, y), (x+w, y+h), (0, 255, 0), 2)\n",
    "        cv2.putText(im1, \"Status: {}\".format('Movement'), (10, 20), cv2.FONT_HERSHEY_SIMPLEX,\n",
    "                    1, (0, 0, 255), 3)\n",
    "        Activaciones[j+1]=Activaciones[j+1]+1\n",
    "        contador+=1\n",
    "    image = cv2.resize(im1, (352,288))\n",
    "    out.write(image)\n",
    "    #cv2.imshow(\"feed\", im1)\n",
    "    #im1 = im2\n",
    "    #ret, im2 = cap.read()\n",
    "\n",
    "        \n",
    "out.release()"
   ]
  },
  {
   "cell_type": "markdown",
   "metadata": {},
   "source": [
    "Como se logró apreciar, adicionalmente se imprimió en pantalla el numero de frames y cada vez que existia una detección. Posteriormente se obtuvo que el total de veces que se detecto movimiento fue:"
   ]
  },
  {
   "cell_type": "code",
   "execution_count": 14,
   "metadata": {},
   "outputs": [
    {
     "data": {
      "text/plain": [
       "313"
      ]
     },
     "execution_count": 14,
     "metadata": {},
     "output_type": "execute_result"
    }
   ],
   "source": [
    "contador\n"
   ]
  },
  {
   "cell_type": "markdown",
   "metadata": {},
   "source": [
    "\n",
    "Lo cual es demasiado, puesto que al observar el video, se logran apreciar muchos errores producidos por el movimiento de camara, siendo detecciones falsas."
   ]
  },
  {
   "cell_type": "code",
   "execution_count": 48,
   "metadata": {},
   "outputs": [
    {
     "data": {
      "text/plain": [
       "Text(0, 0.5, 'Cantidad de detecciones')"
      ]
     },
     "execution_count": 48,
     "metadata": {},
     "output_type": "execute_result"
    },
    {
     "data": {
      "image/png": "[encoded data removed]",
      "text/plain": [
       "<Figure size 936x432 with 1 Axes>"
      ]
     },
     "metadata": {
      "needs_background": "light"
     },
     "output_type": "display_data"
    }
   ],
   "source": [
    "plt.figure(figsize=(13,6))\n",
    "plt.plot(Activaciones,'o')\n",
    "plt.title('Detecciones por cuadro para el método diferencia de cuadros')\n",
    "plt.xlabel('N° de Frame')\n",
    "plt.ylabel('Cantidad de detecciones')"
   ]
  },
  {
   "cell_type": "markdown",
   "metadata": {},
   "source": [
    "\n",
    "Posteriormente para analizar los datos obtenidos mediante deep learning, se extrae en archivo resulst.txt, donde mustra todas las detecciones."
   ]
  },
  {
   "cell_type": "code",
   "execution_count": 3,
   "metadata": {},
   "outputs": [],
   "source": [
    "import pandas as pd\n",
    "data=pd.read_csv(r'C:\\Users\\aleja\\Desktop\\exp3\\results.txt',names=['Frame','Act','N1','N2','N3','N4','N5','N6','N7','N8'])"
   ]
  },
  {
   "cell_type": "code",
   "execution_count": 4,
   "metadata": {},
   "outputs": [
    {
     "data": {
      "text/html": [
       "<div>\n",
       "<style scoped>\n",
       "    .dataframe tbody tr th:only-of-type {\n",
       "        vertical-align: middle;\n",
       "    }\n",
       "\n",
       "    .dataframe tbody tr th {\n",
       "        vertical-align: top;\n",
       "    }\n",
       "\n",
       "    .dataframe thead th {\n",
       "        text-align: right;\n",
       "    }\n",
       "</style>\n",
       "<table border=\"1\" class=\"dataframe\">\n",
       "  <thead>\n",
       "    <tr style=\"text-align: right;\">\n",
       "      <th></th>\n",
       "      <th>Frame</th>\n",
       "      <th>Act</th>\n",
       "      <th>N1</th>\n",
       "      <th>N2</th>\n",
       "      <th>N3</th>\n",
       "      <th>N4</th>\n",
       "      <th>N5</th>\n",
       "      <th>N6</th>\n",
       "      <th>N7</th>\n",
       "      <th>N8</th>\n",
       "    </tr>\n",
       "  </thead>\n",
       "  <tbody>\n",
       "    <tr>\n",
       "      <td>0</td>\n",
       "      <td>145</td>\n",
       "      <td>1</td>\n",
       "      <td>299</td>\n",
       "      <td>55</td>\n",
       "      <td>52</td>\n",
       "      <td>226</td>\n",
       "      <td>-1</td>\n",
       "      <td>-1</td>\n",
       "      <td>-1</td>\n",
       "      <td>-1</td>\n",
       "    </tr>\n",
       "    <tr>\n",
       "      <td>1</td>\n",
       "      <td>146</td>\n",
       "      <td>1</td>\n",
       "      <td>296</td>\n",
       "      <td>33</td>\n",
       "      <td>55</td>\n",
       "      <td>251</td>\n",
       "      <td>-1</td>\n",
       "      <td>-1</td>\n",
       "      <td>-1</td>\n",
       "      <td>-1</td>\n",
       "    </tr>\n",
       "    <tr>\n",
       "      <td>2</td>\n",
       "      <td>147</td>\n",
       "      <td>1</td>\n",
       "      <td>297</td>\n",
       "      <td>41</td>\n",
       "      <td>54</td>\n",
       "      <td>240</td>\n",
       "      <td>-1</td>\n",
       "      <td>-1</td>\n",
       "      <td>-1</td>\n",
       "      <td>-1</td>\n",
       "    </tr>\n",
       "    <tr>\n",
       "      <td>3</td>\n",
       "      <td>148</td>\n",
       "      <td>1</td>\n",
       "      <td>300</td>\n",
       "      <td>49</td>\n",
       "      <td>51</td>\n",
       "      <td>227</td>\n",
       "      <td>-1</td>\n",
       "      <td>-1</td>\n",
       "      <td>-1</td>\n",
       "      <td>-1</td>\n",
       "    </tr>\n",
       "    <tr>\n",
       "      <td>4</td>\n",
       "      <td>149</td>\n",
       "      <td>1</td>\n",
       "      <td>300</td>\n",
       "      <td>49</td>\n",
       "      <td>51</td>\n",
       "      <td>230</td>\n",
       "      <td>-1</td>\n",
       "      <td>-1</td>\n",
       "      <td>-1</td>\n",
       "      <td>-1</td>\n",
       "    </tr>\n",
       "  </tbody>\n",
       "</table>\n",
       "</div>"
      ],
      "text/plain": [
       "   Frame  Act   N1  N2  N3   N4  N5  N6  N7  N8\n",
       "0    145    1  299  55  52  226  -1  -1  -1  -1\n",
       "1    146    1  296  33  55  251  -1  -1  -1  -1\n",
       "2    147    1  297  41  54  240  -1  -1  -1  -1\n",
       "3    148    1  300  49  51  227  -1  -1  -1  -1\n",
       "4    149    1  300  49  51  230  -1  -1  -1  -1"
      ]
     },
     "execution_count": 4,
     "metadata": {},
     "output_type": "execute_result"
    }
   ],
   "source": [
    "data.head()\n"
   ]
  },
  {
   "cell_type": "code",
   "execution_count": 5,
   "metadata": {},
   "outputs": [
    {
     "data": {
      "text/plain": [
       "119"
      ]
     },
     "execution_count": 5,
     "metadata": {},
     "output_type": "execute_result"
    }
   ],
   "source": [
    "len(data)\n"
   ]
  },
  {
   "cell_type": "markdown",
   "metadata": {},
   "source": [
    "De inmediato se apreciaron muchas menos activaciones, siendo para este caso 119, puesto que como se logro ver en el video solo detecta a la persona y no ocurren errores como con el método anterior"
   ]
  },
  {
   "cell_type": "code",
   "execution_count": 8,
   "metadata": {},
   "outputs": [],
   "source": [
    "modelodl=np.zeros(301)\n",
    "modelodl[data['Frame']]=1"
   ]
  },
  {
   "cell_type": "code",
   "execution_count": 9,
   "metadata": {},
   "outputs": [
    {
     "data": {
      "text/plain": [
       "Text(0, 0.5, 'Cantidad de detecciones')"
      ]
     },
     "execution_count": 9,
     "metadata": {},
     "output_type": "execute_result"
    },
    {
     "data": {
      "image/png": "[encoded data removed]",
      "text/plain": [
       "<Figure size 936x432 with 1 Axes>"
      ]
     },
     "metadata": {
      "needs_background": "light"
     },
     "output_type": "display_data"
    }
   ],
   "source": [
    "plt.figure(figsize=(13,6))\n",
    "plt.plot(modelodl,'o')\n",
    "plt.title('Detecciones por cuadro para el método de deep learning')\n",
    "plt.xlabel('N° de Frame')\n",
    "plt.ylabel('Cantidad de detecciones')"
   ]
  },
  {
   "cell_type": "code",
   "execution_count": 15,
   "metadata": {},
   "outputs": [
    {
     "data": {
      "text/plain": [
       "<matplotlib.legend.Legend at 0x165ddcbdec8>"
      ]
     },
     "execution_count": 15,
     "metadata": {},
     "output_type": "execute_result"
    },
    {
     "data": {
      "image/png": "[encoded data removed]",
      "text/plain": [
       "<Figure size 936x432 with 1 Axes>"
      ]
     },
     "metadata": {
      "needs_background": "light"
     },
     "output_type": "display_data"
    }
   ],
   "source": [
    "plt.figure(figsize=(13,6))\n",
    "plt.plot(Activaciones,'o',label='Diferencia de cuadros')\n",
    "plt.plot(modelodl,'o',label='Modelo deep learning')\n",
    "plt.legend(loc='upper left')"
   ]
  },
  {
   "cell_type": "code",
   "execution_count": 16,
   "metadata": {},
   "outputs": [
    {
     "data": {
      "text/plain": [
       "<function matplotlib.pyplot.show(*args, **kw)>"
      ]
     },
     "execution_count": 16,
     "metadata": {},
     "output_type": "execute_result"
    },
    {
     "data": {
      "image/png": "[encoded data removed]",
      "text/plain": [
       "<Figure size 936x432 with 2 Axes>"
      ]
     },
     "metadata": {
      "needs_background": "light"
     },
     "output_type": "display_data"
    }
   ],
   "source": [
    "fig, (ax1,ax2)=plt.subplots(1,2,figsize=(13,6))\n",
    "\n",
    "fig.suptitle('Comparacion de activaciones')\n",
    "\n",
    "ax2.plot(modelodl,'o')\n",
    "ax1.plot(Activaciones,'o')\n",
    "ax2.set_ylim(0,5)\n",
    "ax2.set_title('Deep Learning')\n",
    "ax1.set_title('Diferencia de cuadros')\n",
    "ax1.set_xlabel('N° de Frame')\n",
    "ax1.set_ylabel('Detecciones')\n",
    "ax2.set_xlabel('N° de Frame')\n",
    "ax2.set_ylabel('Detecciones')\n",
    "plt.show"
   ]
  },
  {
   "cell_type": "markdown",
   "metadata": {},
   "source": [
    "Donde se llegó a apreciar como el modelo de deep learning fue mucho mas preciso, logrando detectar a la persona y no falsos positivos como el modelo de diferencia de cuadros, llegandose a activar como maximo 1 vez por frame, teniendo un total de 119 detecciones pudiendo ser utilizado como solución para el porblema del movimiento de camara. En cambio el otro modelo llego a tener 313 detecciones, siendo muchas de estas falsas, con lo cual no funciona como solución al problema del movimiento de camara."
   ]
  }
 ],
 "metadata": {
  "kernelspec": {
   "display_name": "Python 3",
   "language": "python",
   "name": "python3"
  },
  "language_info": {
   "codemirror_mode": {
    "name": "ipython",
    "version": 3
   },
   "file_extension": ".py",
   "mimetype": "text/x-python",
   "name": "python",
   "nbconvert_exporter": "python",
   "pygments_lexer": "ipython3",
   "version": "3.7.4"
  }
 },
 "nbformat": 4,
 "nbformat_minor": 4
}
